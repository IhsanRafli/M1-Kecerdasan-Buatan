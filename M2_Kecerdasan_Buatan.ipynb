{
  "cells": [
    {
      "cell_type": "markdown",
      "metadata": {
        "id": "view-in-github",
        "colab_type": "text"
      },
      "source": [
        "<a href=\"https://colab.research.google.com/github/IhsanRafli/M1-Kecerdasan-Buatan/blob/main/M2_Kecerdasan_Buatan.ipynb\" target=\"_parent\"><img src=\"https://colab.research.google.com/assets/colab-badge.svg\" alt=\"Open In Colab\"/></a>"
      ]
    },
    {
      "cell_type": "code",
      "source": [
        "import os, platform, sys, subprocess, warnings, logging\n",
        "warnings.filterwarnings(\"ignore\", message=r\".*HF_TOKEN.*\")\n",
        "os.environ[\"TOKENIZERS_PARALLELISM\"] = \"false\"\n",
        "logging.getLogger(\"transformers\").setLevel(logging.ERROR)\n",
        "logging.getLogger(\"huggingface_hub\").setLevel(logging.ERROR)\n",
        "print(\"Python:\", platform.python_version())\n",
        "print(\"Executable:\", sys.executable)\n",
        "try:\n",
        "    import torch\n",
        "    print(\"PyTorch:\", torch.__version__)\n",
        "    device = \"cuda\" if torch.cuda.is_available() else \"cpu\"\n",
        "    print(\"Device:\", device)\n",
        "    if device == \"cuda\":\n",
        "        print(\"GPU:\", torch.cuda.get_device_name(0))\n",
        "except Exception:\n",
        "    print(\"PyTorch belum terpasang — akan dipasang di sel berikut.\")\n",
        "print(\"\\n=== nvidia-smi ===\")\n",
        "try:\n",
        "    out = subprocess.check_output([\"bash\",\"-lc\",\"nvidia-smi || true\"]).decode()\n",
        "    print(out)\n",
        "except Exception:\n",
        "    print(\"nvidia-smi tidak tersedia.\")"
      ],
      "metadata": {
        "colab": {
          "base_uri": "https://localhost:8080/"
        },
        "id": "yxLEu7EChKnB",
        "outputId": "108e2a98-80a2-46a2-9efe-8106be4acc69"
      },
      "execution_count": null,
      "outputs": [
        {
          "output_type": "stream",
          "name": "stdout",
          "text": [
            "Python: 3.12.11\n",
            "Executable: /usr/bin/python3\n",
            "PyTorch: 2.8.0+cu126\n",
            "Device: cpu\n",
            "\n",
            "=== nvidia-smi ===\n",
            "\n"
          ]
        }
      ]
    },
    {
      "cell_type": "markdown",
      "source": [
        "# Tugas M2 - EDA dan Pipeline Praproses\n",
        "\n",
        "## 1. Exploratory Data Analysis (EDA)\n",
        "\n",
        "**Tujuan EDA**: Memahami kualitas dan pola data sebelum membangun model.\n",
        "\n",
        "**5 Poin Utama EDA**:\n",
        "1. **Bentuk & Tipe**: Berapa baris, kolom, tipe data (numerik/kategori/teks/gambar)\n",
        "2. **Missing Value**: Kolom mana yang sering kosong dan alasannya\n",
        "3. **Distribusi**: Ringkasan numerik, frekuensi kategori, balance label\n",
        "4. **Korelasi**: Fitur yang berkorelasi tinggi atau redundan\n",
        "5. **Kelayakan Fitur**: Fitur masuk akal untuk memisahkan kelas, tidak mengandung data masa depan (leakage)"
      ],
      "metadata": {
        "id": "57OoHQXQEf_i"
      }
    },
    {
      "cell_type": "code",
      "source": [
        "!pip -q install numpy pandas scikit-learn matplotlib plotly torch torchvision torchaudio transformers datasets evaluate"
      ],
      "metadata": {
        "colab": {
          "base_uri": "https://localhost:8080/"
        },
        "id": "wScfJ7yniUYi",
        "outputId": "e24719d1-a86f-438d-c549-3a489e4729a1"
      },
      "execution_count": null,
      "outputs": [
        {
          "output_type": "stream",
          "name": "stdout",
          "text": [
            "\u001b[?25l   \u001b[90m━━━━━━━━━━━━━━━━━━━━━━━━━━━━━━━━━━━━━━━━\u001b[0m \u001b[32m0.0/84.1 kB\u001b[0m \u001b[31m?\u001b[0m eta \u001b[36m-:--:--\u001b[0m\r\u001b[2K   \u001b[90m━━━━━━━━━━━━━━━━━━━━━━━━━━━━━━━━━━━━━━━━\u001b[0m \u001b[32m84.1/84.1 kB\u001b[0m \u001b[31m4.0 MB/s\u001b[0m eta \u001b[36m0:00:00\u001b[0m\n",
            "\u001b[?25h"
          ]
        }
      ]
    },
    {
      "cell_type": "code",
      "source": [
        "from google.colab import drive\n",
        "drive.mount('/content/drive')"
      ],
      "metadata": {
        "colab": {
          "base_uri": "https://localhost:8080/"
        },
        "id": "nZDv1n6qiasq",
        "outputId": "3994990b-f319-4c18-9cc3-a45f7eb71b4a"
      },
      "execution_count": null,
      "outputs": [
        {
          "output_type": "stream",
          "name": "stdout",
          "text": [
            "Mounted at /content/drive\n"
          ]
        }
      ]
    },
    {
      "cell_type": "code",
      "source": [
        "# 1.1 EDA - Analisis Eksplorasi Data\n",
        "# Contoh menggunakan dataset coffee sales (sudah ada di notebook)\n",
        "# Ganti dengan dataset sesuai kebutuhan tugas Anda\n",
        "\n",
        "import pandas as pd\n",
        "import numpy as np\n",
        "import matplotlib.pyplot as plt\n",
        "import seaborn as sns\n",
        "\n",
        "# Load data (contoh)\n",
        "print(\"=== 1. BENTUK & TIPE DATA ===\")\n",
        "print(f\"Shape: {df.shape}\")\n",
        "print(f\"\\nTipe data:\\n{df.dtypes}\")\n",
        "print(f\"\\nInfo:\")\n",
        "df.info()\n",
        "\n",
        "# 2. Missing Values\n",
        "print(\"\\n=== 2. MISSING VALUES ===\")\n",
        "missing = df.isnull().sum()\n",
        "print(missing[missing > 0] if missing.sum() > 0 else \"Tidak ada missing value\")\n",
        "\n",
        "# 3. Distribusi\n",
        "print(\"\\n=== 3. DISTRIBUSI ===\")\n",
        "print(\"\\nStatistik Deskriptif (Numerik):\")\n",
        "print(df.describe())\n",
        "\n",
        "print(\"\\nDistribusi Label/Target:\")\n",
        "if 'coffee_name' in df.columns:\n",
        "    print(df['coffee_name'].value_counts())\n",
        "    plt.figure(figsize=(10, 5))\n",
        "    df['coffee_name'].value_counts().plot(kind='bar')\n",
        "    plt.title('Distribusi Label (coffee_name)')\n",
        "    plt.xlabel('Coffee Type')\n",
        "    plt.ylabel('Count')\n",
        "    plt.xticks(rotation=45)\n",
        "    plt.tight_layout()\n",
        "    plt.show()\n",
        "\n",
        "# 4. Korelasi\n",
        "print(\"\\n=== 4. KORELASI FITUR ===\")\n",
        "numeric_cols = df.select_dtypes(include=[np.number]).columns\n",
        "if len(numeric_cols) > 1:\n",
        "    plt.figure(figsize=(10, 8))\n",
        "    sns.heatmap(df[numeric_cols].corr(), annot=True, cmap='coolwarm', center=0)\n",
        "    plt.title('Correlation Matrix')\n",
        "    plt.tight_layout()\n",
        "    plt.show()\n",
        "\n",
        "# 5. Kelayakan Fitur\n",
        "print(\"\\n=== 5. KELAYAKAN FITUR ===\")\n",
        "print(\"Cek fitur yang tersedia:\")\n",
        "print(df.columns.tolist())\n",
        "print(\"\\nPastikan:\")\n",
        "print(\"- Tidak ada fitur yang mengandung informasi masa depan (data leakage)\")\n",
        "print(\"- Fitur relevan dengan target yang ingin diprediksi\")\n",
        "print(\"- Tidak ada PII (Personally Identifiable Information) yang tidak perlu\")"
      ],
      "metadata": {
        "id": "wrybino1iYNL",
        "colab": {
          "base_uri": "https://localhost:8080/",
          "height": 228
        },
        "outputId": "d9fd7c17-86a1-4691-d433-ceac1031a702"
      },
      "execution_count": null,
      "outputs": [
        {
          "output_type": "stream",
          "name": "stdout",
          "text": [
            "=== 1. BENTUK & TIPE DATA ===\n"
          ]
        },
        {
          "output_type": "error",
          "ename": "NameError",
          "evalue": "name 'df' is not defined",
          "traceback": [
            "\u001b[0;31m---------------------------------------------------------------------------\u001b[0m",
            "\u001b[0;31mNameError\u001b[0m                                 Traceback (most recent call last)",
            "\u001b[0;32m/tmp/ipython-input-3386813046.py\u001b[0m in \u001b[0;36m<cell line: 0>\u001b[0;34m()\u001b[0m\n\u001b[1;32m     10\u001b[0m \u001b[0;31m# Load data (contoh)\u001b[0m\u001b[0;34m\u001b[0m\u001b[0;34m\u001b[0m\u001b[0m\n\u001b[1;32m     11\u001b[0m \u001b[0mprint\u001b[0m\u001b[0;34m(\u001b[0m\u001b[0;34m\"=== 1. BENTUK & TIPE DATA ===\"\u001b[0m\u001b[0;34m)\u001b[0m\u001b[0;34m\u001b[0m\u001b[0;34m\u001b[0m\u001b[0m\n\u001b[0;32m---> 12\u001b[0;31m \u001b[0mprint\u001b[0m\u001b[0;34m(\u001b[0m\u001b[0;34mf\"Shape: {df.shape}\"\u001b[0m\u001b[0;34m)\u001b[0m\u001b[0;34m\u001b[0m\u001b[0;34m\u001b[0m\u001b[0m\n\u001b[0m\u001b[1;32m     13\u001b[0m \u001b[0mprint\u001b[0m\u001b[0;34m(\u001b[0m\u001b[0;34mf\"\\nTipe data:\\n{df.dtypes}\"\u001b[0m\u001b[0;34m)\u001b[0m\u001b[0;34m\u001b[0m\u001b[0;34m\u001b[0m\u001b[0m\n\u001b[1;32m     14\u001b[0m \u001b[0mprint\u001b[0m\u001b[0;34m(\u001b[0m\u001b[0;34mf\"\\nInfo:\"\u001b[0m\u001b[0;34m)\u001b[0m\u001b[0;34m\u001b[0m\u001b[0;34m\u001b[0m\u001b[0m\n",
            "\u001b[0;31mNameError\u001b[0m: name 'df' is not defined"
          ]
        }
      ]
    },
    {
      "cell_type": "code",
      "source": [
        "import os, textwrap, pathlib\n",
        "BASE = \"/content/drive/MyDrive/trpl-ai-capstone\"  # Ubah bila perlu\n",
        "for sd in [\"data\",\"notebooks\",\"src\",\"docs\"]:\n",
        "    os.makedirs(os.path.join(BASE, sd), exist_ok=True)\n",
        "print(\"Struktur terbentuk di:\", BASE)\n",
        "\n",
        "# .gitignore minimal\n",
        "gitignore = textwrap.dedent('''\n",
        "# data & cache\n",
        "data/\n",
        "*.cache/\n",
        "__pycache__/\n",
        "*.ipynb_checkpoints/\n",
        ".DS_Store\n",
        "\n",
        "# secrets\n",
        ".env\n",
        "secrets.json\n",
        "''')\n",
        "with open(os.path.join(BASE, \".gitignore\"), \"w\") as f:\n",
        "    f.write(gitignore)\n",
        "print(\".gitignore dibuat.\")"
      ],
      "metadata": {
        "colab": {
          "base_uri": "https://localhost:8080/"
        },
        "id": "_UfhkZQxirpE",
        "outputId": "cdd4e592-e02f-47b1-bf77-54abfc849838"
      },
      "execution_count": null,
      "outputs": [
        {
          "output_type": "stream",
          "name": "stdout",
          "text": [
            "Struktur terbentuk di: /content/drive/MyDrive/trpl-ai-capstone\n",
            ".gitignore dibuat.\n"
          ]
        }
      ]
    },
    {
      "cell_type": "code",
      "source": [
        "# 2. Keputusan Praproses (3-5 Keputusan)\n",
        "\n",
        "print(\"=== KEPUTUSAN PRAPROSES ===\")\n",
        "print(\"\\n1. IMPUTATION (Missing Values):\")\n",
        "print(\"   - Numerik: Menggunakan median (robust terhadap outlier)\")\n",
        "print(\"   - Kategori: Menggunakan most_frequent (modus)\")\n",
        "print(\"   - Alasan: Data coffee sales memiliki beberapa missing values yang perlu diisi\")\n",
        "\n",
        "print(\"\\n2. ENCODING (Kategori → Numerik):\")\n",
        "print(\"   - OneHotEncoder untuk fitur kategori (cash_type, Time_of_Day, dll)\")\n",
        "print(\"   - LabelEncoder untuk target (coffee_name)\")\n",
        "print(\"   - handle_unknown='ignore' untuk kategori baru di test set\")\n",
        "\n",
        "print(\"\\n3. SCALING (Standarisasi):\")\n",
        "print(\"   - StandardScaler untuk fitur numerik (hour_of_day, money, dll)\")\n",
        "print(\"   - Alasan: Model linear dan SVM sensitif terhadap skala fitur\")\n",
        "\n",
        "print(\"\\n4. FEATURE SELECTION:\")\n",
        "print(\"   - Menggunakan fitur: hour_of_day, money, Weekdaysort, Monthsort, cash_type, dll\")\n",
        "print(\"   - Menghapus fitur redundan (date bisa diganti dengan komponen waktu)\")\n",
        "\n",
        "print(\"\\n5. ANTI-LEAKAGE:\")\n",
        "print(\"   - Fit imputer, encoder, scaler HANYA pada train set\")\n",
        "print(\"   - Transform ke validation dan test set tanpa re-fit\")\n",
        "print(\"   - Alasan: Mencegah informasi dari val/test bocor ke train (data leakage)\")"
      ],
      "metadata": {
        "id": "XWP5xIiPFQyq"
      },
      "execution_count": null,
      "outputs": []
    },
    {
      "cell_type": "code",
      "source": [
        "import pandas as pd\n",
        "import numpy as np\n",
        "import seaborn as sns\n",
        "import matplotlib.pyplot as plt\n",
        "from sklearn.model_selection import train_test_split, GridSearchCV\n",
        "from sklearn.preprocessing import LabelEncoder, StandardScaler\n",
        "from sklearn.ensemble import RandomForestClassifier\n",
        "from sklearn.svm import SVC\n",
        "from sklearn.metrics import accuracy_score, classification_report\n",
        "from xgboost import XGBClassifier\n",
        "import kagglehub\n",
        "import os\n",
        "\n",
        "# Download dataset\n",
        "path = kagglehub.dataset_download(\"minahilfatima12328/daily-coffee-transactions\")\n",
        "print(\"Path:\", path)\n",
        "print(\"Isi folder:\", os.listdir(path))\n",
        "\n",
        "# Baca file\n",
        "df = pd.read_csv(path + \"/Coffe_sales.csv\")\n",
        "\n",
        "# Encode kolom teks tambahan biar bisa dipakai sebagai fitur\n",
        "label_cols = ['cash_type', 'Time_of_Day', 'Weekday', 'Month_name']\n",
        "for col in label_cols:\n",
        "    le = LabelEncoder()\n",
        "    df[col] = le.fit_transform(df[col])\n",
        "\n",
        "# Pilih fitur dan target\n",
        "X = df[['hour_of_day', 'money', 'Weekdaysort', 'Monthsort',\n",
        "        'cash_type', 'Time_of_Day', 'Weekday', 'Month_name']]\n",
        "y = df['coffee_name']\n",
        "\n",
        "# Encode target\n",
        "le_y = LabelEncoder()\n",
        "y = le_y.fit_transform(y)\n",
        "\n",
        "# Split data\n",
        "X_train, X_test, y_train, y_test = train_test_split(X, y, test_size=0.2, random_state=42)\n",
        "\n",
        "# Scaling\n",
        "scaler = StandardScaler()\n",
        "X_train = scaler.fit_transform(X_train)\n",
        "X_test = scaler.transform(X_test)\n",
        "\n",
        "# GridSearchCV untuk Random Forest\n",
        "\n",
        "param_grid = {\n",
        "    'n_estimators': [100, 200, 300],\n",
        "    'max_depth': [None, 10, 20, 30],\n",
        "    'min_samples_split': [2, 5, 10],\n",
        "    'min_samples_leaf': [1, 2, 4]\n",
        "}\n",
        "\n",
        "grid = GridSearchCV(RandomForestClassifier(random_state=42),\n",
        "                    param_grid, cv=3, n_jobs=-1, verbose=1)\n",
        "\n",
        "print(\" Sedang melakukan Grid Search, mohon tunggu...\")\n",
        "grid.fit(X_train, y_train)\n",
        "\n",
        "print(\"\\n Best Parameters:\", grid.best_params_)\n",
        "best_rf = grid.best_estimator_\n",
        "\n",
        "#Bandingkan dengan model lain: SVM & XGBoost\n",
        "models = {\n",
        "    'Random Forest (Tuned)': best_rf,\n",
        "    'SVM (RBF Kernel)': SVC(kernel='rbf', C=2, gamma='scale', probability=True),\n",
        "    'XGBoost': XGBClassifier(\n",
        "        n_estimators=200, learning_rate=0.1, max_depth=8, subsample=0.8,\n",
        "        colsample_bytree=0.8, random_state=42, use_label_encoder=False, eval_metric='mlogloss'\n",
        "    )\n",
        "}\n",
        "\n",
        "results = []\n",
        "\n",
        "for name, model in models.items():\n",
        "    model.fit(X_train, y_train)\n",
        "    y_pred = model.predict(X_test)\n",
        "    acc = accuracy_score(y_test, y_pred)\n",
        "    results.append({'Model': name, 'Accuracy': acc})\n",
        "    print(f\"\\n{name} Accuracy: {acc:.4f}\")\n",
        "    print(classification_report(y_test, y_pred, target_names=le_y.classes_))\n",
        "\n",
        "# Visualisasi Perbandingan Akurasi\n",
        "results_df = pd.DataFrame(results)\n",
        "plt.figure(figsize=(7,5))\n",
        "sns.barplot(x='Model', y='Accuracy', data=results_df, palette='viridis')\n",
        "plt.title(\"Perbandingan Akurasi Model Klasifikasi Kopi\")\n",
        "plt.ylim(0, 1)\n",
        "plt.show()\n"
      ],
      "metadata": {
        "id": "--RCjZyIsy85",
        "outputId": "d6e12449-697e-4038-d3e8-3c718604c5e6",
        "colab": {
          "base_uri": "https://localhost:8080/",
          "height": 1000
        }
      },
      "execution_count": null,
      "outputs": [
        {
          "output_type": "stream",
          "name": "stdout",
          "text": [
            "Using Colab cache for faster access to the 'daily-coffee-transactions' dataset.\n",
            "Path: /kaggle/input/daily-coffee-transactions\n",
            "Isi folder: ['Coffe_sales.csv']\n",
            "🔍 Sedang melakukan Grid Search, mohon tunggu...\n",
            "Fitting 3 folds for each of 108 candidates, totalling 324 fits\n",
            "\n",
            "✅ Best Parameters: {'max_depth': None, 'min_samples_leaf': 1, 'min_samples_split': 10, 'n_estimators': 300}\n",
            "\n",
            "Random Forest (Tuned) Accuracy: 0.6507\n",
            "                     precision    recall  f1-score   support\n",
            "\n",
            "          Americano       0.78      0.86      0.82       128\n",
            "Americano with Milk       0.99      0.99      0.99       163\n",
            "         Cappuccino       0.33      0.34      0.34        90\n",
            "              Cocoa       0.36      0.18      0.24        45\n",
            "            Cortado       0.53      0.42      0.47        48\n",
            "           Espresso       1.00      0.80      0.89        20\n",
            "      Hot Chocolate       0.42      0.22      0.29        60\n",
            "              Latte       0.50      0.66      0.57       156\n",
            "\n",
            "           accuracy                           0.65       710\n",
            "          macro avg       0.61      0.56      0.57       710\n",
            "       weighted avg       0.64      0.65      0.64       710\n",
            "\n",
            "\n",
            "SVM (RBF Kernel) Accuracy: 0.6085\n",
            "                     precision    recall  f1-score   support\n",
            "\n",
            "          Americano       0.78      0.78      0.78       128\n",
            "Americano with Milk       0.82      0.97      0.89       163\n",
            "         Cappuccino       0.35      0.29      0.32        90\n",
            "              Cocoa       0.00      0.00      0.00        45\n",
            "            Cortado       0.49      0.42      0.45        48\n",
            "           Espresso       1.00      0.85      0.92        20\n",
            "      Hot Chocolate       0.35      0.12      0.17        60\n",
            "              Latte       0.44      0.67      0.53       156\n",
            "\n",
            "           accuracy                           0.61       710\n",
            "          macro avg       0.53      0.51      0.51       710\n",
            "       weighted avg       0.56      0.61      0.57       710\n",
            "\n",
            "\n",
            "XGBoost Accuracy: 0.6268\n",
            "                     precision    recall  f1-score   support\n",
            "\n",
            "          Americano       0.79      0.74      0.76       128\n",
            "Americano with Milk       0.99      0.99      0.99       163\n",
            "         Cappuccino       0.36      0.36      0.36        90\n",
            "              Cocoa       0.33      0.29      0.31        45\n",
            "            Cortado       0.42      0.48      0.45        48\n",
            "           Espresso       1.00      0.95      0.97        20\n",
            "      Hot Chocolate       0.35      0.30      0.32        60\n",
            "              Latte       0.49      0.54      0.51       156\n",
            "\n",
            "           accuracy                           0.63       710\n",
            "          macro avg       0.59      0.58      0.58       710\n",
            "       weighted avg       0.63      0.63      0.63       710\n",
            "\n"
          ]
        },
        {
          "output_type": "display_data",
          "data": {
            "text/plain": [
              "<Figure size 700x500 with 1 Axes>"
            ],
            "image/png": "[encoded data removed]"
          },
          "metadata": {}
        }
      ]
    },
    {
      "cell_type": "markdown",
      "source": [
        "## 3. Split Data\n",
        "\n",
        "**Strategi Split**: Stratified Split\n",
        "\n",
        "**Alasan**:\n",
        "- Data coffee sales adalah data **tabular** dengan target klasifikasi (coffee_name)\n",
        "- Kelas tidak seimbang (imbalanced classes): Americano with Milk (163), Latte (156), Americano (128), Cappuccino (90), dll\n",
        "- **Stratified split** menjaga proporsi setiap kelas di train, validation, dan test set\n",
        "- Rasio: 70% train, 15% validation, 15% test (atau 80% train, 20% test untuk sederhana)\n",
        "- Random state tetap (42) untuk reproducibility\n",
        "\n",
        "**Tidak menggunakan Time-aware split** karena:\n",
        "- Data tidak memiliki ketergantungan temporal yang kuat\n",
        "- Tujuan: prediksi jenis kopi berdasarkan fitur transaksi, bukan forecasting"
      ],
      "metadata": {
        "id": "HunK9QBsFhns"
      }
    },
    {
      "cell_type": "markdown",
      "source": [
        "## 4. Pipeline Praproses dengan ColumnTransformer\n",
        "\n",
        "**Tujuan**: Mengotomasi praproses dengan pipeline yang rapi, anti-leakage, dan mudah di-tune dengan GridSearchCV.\n",
        "\n",
        "**Komponen Pipeline**:\n",
        "\n",
        "1. **ColumnTransformer** untuk menangani fitur numerik dan kategori secara terpisah:\n",
        "   - **Pipeline Numerik**: SimpleImputer (median) → StandardScaler\n",
        "   - **Pipeline Kategori**: SimpleImputer (most_frequent) → OneHotEncoder (handle_unknown='ignore')\n",
        "\n",
        "2. **Model** (baseline): LogisticRegression atau RandomForest\n",
        "\n",
        "**Keuntungan**:\n",
        "- ✅ Anti-leakage: fit hanya di train, transform di val/test\n",
        "- ✅ Rapi: satu objek pipeline untuk semua praproses\n",
        "- ✅ Mudah tuning: bisa digabung dengan GridSearchCV\n",
        "- ✅ Reproducible: seed tetap, versi paket tercatat"
      ],
      "metadata": {
        "id": "1SD5C7CVGAof"
      }
    },
    {
      "cell_type": "code",
      "source": [
        "# 4.1 Pipeline Praproses - Template Code (Tabular Data)\n",
        "# Sesuai template dari PDF Materi-Kecerdasan-Buatan-Pertemuan-2.pdf\n",
        "\n",
        "from sklearn.model_selection import train_test_split\n",
        "from sklearn.compose import ColumnTransformer\n",
        "from sklearn.preprocessing import OneHotEncoder, StandardScaler\n",
        "from sklearn.impute import SimpleImputer\n",
        "from sklearn.pipeline import Pipeline\n",
        "from sklearn.linear_model import LogisticRegression\n",
        "from sklearn.metrics import classification_report, accuracy_score\n",
        "import pandas as pd\n",
        "\n",
        "# Contoh dengan data coffee sales yang sudah ada\n",
        "# Tentukan kolom numerik dan kategori\n",
        "numcols = ['hour_of_day', 'money', 'Weekdaysort', 'Monthsort']\n",
        "catcols = ['cash_type', 'Time_of_Day', 'Weekday', 'Month_name']\n",
        "\n",
        "# Prepare data (menggunakan df yang sudah ada dari Cell 7)\n",
        "X = df[numcols + catcols]\n",
        "y = df['coffee_name']\n",
        "\n",
        "# Split data dengan stratified\n",
        "X_tr, X_te, y_tr, y_te = train_test_split(X, y, test_size=0.2, stratify=y, random_state=42)\n",
        "\n",
        "# Pipeline untuk numerik: Impute median → StandardScaler\n",
        "numpipe = Pipeline([\n",
        "    ('imp', SimpleImputer(strategy='median')),\n",
        "    ('sc', StandardScaler())\n",
        "])\n",
        "\n",
        "# Pipeline untuk kategori: Impute most_frequent → OneHotEncoder\n",
        "catpipe = Pipeline([\n",
        "    ('imp', SimpleImputer(strategy='most_frequent')),\n",
        "    ('oh', OneHotEncoder(handle_unknown='ignore'))\n",
        "])\n",
        "\n",
        "# ColumnTransformer menggabungkan keduanya\n",
        "pre = ColumnTransformer([\n",
        "    ('num', numpipe, numcols),\n",
        "    ('cat', catpipe, catcols)\n",
        "])\n",
        "\n",
        "# Pipeline lengkap: praproses + model baseline (LogisticRegression)\n",
        "clf = Pipeline([\n",
        "    ('preprocess', pre),\n",
        "    ('model', LogisticRegression(max_iter=500, random_state=42))\n",
        "])\n",
        "\n",
        "# Fit pipeline (fit imputer, scaler, encoder, dan model HANYA di train)\n",
        "print(\"=== Training Logistic Regression Baseline dengan Pipeline ===\")\n",
        "clf.fit(X_tr, y_tr)\n",
        "\n",
        "# Prediksi di test set (anti-leakage)\n",
        "y_pred = clf.predict(X_te)\n",
        "acc = accuracy_score(y_te, y_pred)\n",
        "\n",
        "# Evaluasi\n",
        "print(f\"\\n✅ Logistic Regression Accuracy: {acc:.4f}\")\n",
        "print(\"\\n📊 Classification Report:\")\n",
        "print(classification_report(y_te, y_pred))\n",
        "\n",
        "print(\"\\n✅ Pipeline berhasil dijalankan dengan anti-leakage!\")\n",
        "print(\"Semua praproses (impute, encode, scale) di-fit hanya di train, lalu transform ke test.\")"
      ],
      "metadata": {
        "id": "nBy8F-1zGStt"
      },
      "execution_count": null,
      "outputs": []
    },
    {
      "cell_type": "markdown",
      "source": [
        "## 5. Evaluasi Model\n",
        "\n",
        "**Metrik Utama**:\n",
        "- **Accuracy**: Proporsi prediksi benar secara keseluruhan\n",
        "- **F1-Score (Weighted)**: Rata-rata harmonik precision dan recall, cocok untuk imbalanced class\n",
        "- **Classification Report**: Detail precision, recall, F1 per kelas\n",
        "\n",
        "**Hasil dari Cell 7 (Existing Models)**:\n",
        "- **Random Forest (Tuned)**: 65.07% accuracy ✅\n",
        "- **SVM (RBF Kernel)**: 60.85% accuracy\n",
        "- **XGBoost**: 62.68% accuracy\n",
        "- **Logistic Regression (Pipeline)**: akan dievaluasi di Cell 10\n",
        "\n",
        "### 3 Contoh Error Analysis\n",
        "\n",
        "Berdasarkan classification report dari Cell 7:\n",
        "\n",
        "1. **Cocoa**: Precision 36%, Recall 18% (F1: 0.24) ❌\n",
        "   - Model sulit membedakan Cocoa dari minuman lain\n",
        "   - Support hanya 45 samples (kelas minoritas)\n",
        "\n",
        "2. **Hot Chocolate**: Precision 42%, Recall 22% (F1: 0.29) ❌\n",
        "   - Sering salah diprediksi sebagai kelas lain\n",
        "   - Support 60 samples (kelas minoritas)\n",
        "\n",
        "3. **Latte**: Precision 50%, Recall 66% (F1: 0.57) ⚠️\n",
        "   - Model cenderung over-predict Latte\n",
        "   - Support 156 samples (kelas mayoritas)\n",
        "\n",
        "### 3 Rencana Perbaikan\n",
        "\n",
        "1. **Oversampling/Undersampling/SMOTE**:\n",
        "   - Gunakan SMOTE untuk mengatasi imbalanced class\n",
        "   - Target: meningkatkan performa kelas minoritas (Cocoa, Hot Chocolate, Cortado)\n",
        "\n",
        "2. **Feature Engineering**:\n",
        "   - Tambahkan fitur interaksi (misal: hour_of_day * cash_type)\n",
        "   - Ekstrak lebih banyak fitur temporal (weekend/weekday, morning/afternoon/evening)\n",
        "   - Coba polynomial features untuk fitur numerik\n",
        "\n",
        "3. **Model Tuning & Ensemble**:\n",
        "   - Tune hyperparameter SVM dan XGBoost lebih lanjut\n",
        "   - Coba ensemble (Voting/Stacking) dari 3 model terbaik\n",
        "   - Eksperimen dengan neural network sederhana (MLP) untuk data tabular"
      ],
      "metadata": {
        "id": "_TUz9RPTGirP"
      }
    }
  ],
  "metadata": {
    "colab": {
      "provenance": [],
      "gpuType": "T4",
      "include_colab_link": true
    },
    "kernelspec": {
      "display_name": "Python 3",
      "name": "python3"
    },
    "accelerator": "GPU"
  },
  "nbformat": 4,
  "nbformat_minor": 0
}